{
 "cells": [
  {
   "cell_type": "code",
   "execution_count": 22,
   "metadata": {},
   "outputs": [],
   "source": [
    "import pandas as pd\n",
    "import re\n",
    "import pickle"
   ]
  },
  {
   "cell_type": "code",
   "execution_count": 6,
   "metadata": {},
   "outputs": [],
   "source": [
    "# via https://stackoverflow.com/questions/24893977/whats-the-best-way-to-regex-replace-a-string-in-python-but-keep-its-case\n",
    "\n",
    "def replace_keep_case(word, replacement, text):\n",
    "    def func(match):\n",
    "        g = match.group()\n",
    "        if g.islower(): return replacement.lower()\n",
    "        if g.istitle(): return replacement.title()\n",
    "        if g.isupper(): return replacement.upper()\n",
    "        return replacement      \n",
    "    return re.sub(word, func, text, flags=re.I)"
   ]
  },
  {
   "cell_type": "code",
   "execution_count": 176,
   "metadata": {},
   "outputs": [],
   "source": [
    "repl = pd.read_csv(\"gender_options_words.txt\", sep=\"\\t\")"
   ]
  },
  {
   "cell_type": "code",
   "execution_count": 177,
   "metadata": {},
   "outputs": [
    {
     "data": {
      "text/html": [
       "<div>\n",
       "<style scoped>\n",
       "    .dataframe tbody tr th:only-of-type {\n",
       "        vertical-align: middle;\n",
       "    }\n",
       "\n",
       "    .dataframe tbody tr th {\n",
       "        vertical-align: top;\n",
       "    }\n",
       "\n",
       "    .dataframe thead th {\n",
       "        text-align: right;\n",
       "    }\n",
       "</style>\n",
       "<table border=\"1\" class=\"dataframe\">\n",
       "  <thead>\n",
       "    <tr style=\"text-align: right;\">\n",
       "      <th></th>\n",
       "      <th>F-Pro</th>\n",
       "      <th>M-Pro</th>\n",
       "      <th>Non-Pro</th>\n",
       "    </tr>\n",
       "  </thead>\n",
       "  <tbody>\n",
       "    <tr>\n",
       "      <th>0</th>\n",
       "      <td>she</td>\n",
       "      <td>he</td>\n",
       "      <td>they</td>\n",
       "    </tr>\n",
       "    <tr>\n",
       "      <th>1</th>\n",
       "      <td>her</td>\n",
       "      <td>him</td>\n",
       "      <td>them</td>\n",
       "    </tr>\n",
       "    <tr>\n",
       "      <th>2</th>\n",
       "      <td>his second daughter</td>\n",
       "      <td>his second son</td>\n",
       "      <td>his second child</td>\n",
       "    </tr>\n",
       "    <tr>\n",
       "      <th>3</th>\n",
       "      <td>a lady</td>\n",
       "      <td>a gentleman</td>\n",
       "      <td>a gentleperson</td>\n",
       "    </tr>\n",
       "    <tr>\n",
       "      <th>4</th>\n",
       "      <td>this young lady</td>\n",
       "      <td>this young man</td>\n",
       "      <td>this young person</td>\n",
       "    </tr>\n",
       "    <tr>\n",
       "      <th>...</th>\n",
       "      <td>...</td>\n",
       "      <td>...</td>\n",
       "      <td>...</td>\n",
       "    </tr>\n",
       "    <tr>\n",
       "      <th>115</th>\n",
       "      <td>mamma</td>\n",
       "      <td>pappa</td>\n",
       "      <td>parent</td>\n",
       "    </tr>\n",
       "    <tr>\n",
       "      <th>116</th>\n",
       "      <td>mother</td>\n",
       "      <td>father</td>\n",
       "      <td>parent</td>\n",
       "    </tr>\n",
       "    <tr>\n",
       "      <th>117</th>\n",
       "      <td>Mrs.</td>\n",
       "      <td>Mr.</td>\n",
       "      <td>Msr.</td>\n",
       "    </tr>\n",
       "    <tr>\n",
       "      <th>118</th>\n",
       "      <td>Mrs. Bennet</td>\n",
       "      <td>Mr. Bennet</td>\n",
       "      <td>Msr. Bennet</td>\n",
       "    </tr>\n",
       "    <tr>\n",
       "      <th>119</th>\n",
       "      <td>girls</td>\n",
       "      <td>boys</td>\n",
       "      <td>children</td>\n",
       "    </tr>\n",
       "  </tbody>\n",
       "</table>\n",
       "<p>120 rows × 3 columns</p>\n",
       "</div>"
      ],
      "text/plain": [
       "                   F-Pro           M-Pro            Non-Pro\n",
       "0                    she              he               they\n",
       "1                    her             him               them\n",
       "2    his second daughter  his second son   his second child\n",
       "3                 a lady     a gentleman     a gentleperson\n",
       "4        this young lady  this young man  this young person\n",
       "..                   ...             ...                ...\n",
       "115                mamma           pappa             parent\n",
       "116               mother          father             parent\n",
       "117                 Mrs.             Mr.               Msr.\n",
       "118          Mrs. Bennet      Mr. Bennet        Msr. Bennet\n",
       "119                girls            boys           children\n",
       "\n",
       "[120 rows x 3 columns]"
      ]
     },
     "execution_count": 177,
     "metadata": {},
     "output_type": "execute_result"
    }
   ],
   "source": [
    "repl"
   ]
  },
  {
   "cell_type": "code",
   "execution_count": 416,
   "metadata": {},
   "outputs": [],
   "source": [
    "idlookup = pickle.load(open(\"ids_to_names_genders.p\", \"rb\"))"
   ]
  },
  {
   "cell_type": "code",
   "execution_count": 417,
   "metadata": {},
   "outputs": [
    {
     "data": {
      "text/plain": [
       "{-1: {'label': 'NONE', 'orig_gender': 'O'},\n",
       " 0: {'label': 'Elizabeth', 'orig_gender': 'F'},\n",
       " 1: {'label': 'Darcy', 'orig_gender': 'M'},\n",
       " 2: {'label': 'Jane', 'orig_gender': 'F'},\n",
       " 3: {'label': 'Mrs. Bennet', 'orig_gender': 'F'},\n",
       " 4: {'label': 'Mr. Bennet', 'orig_gender': 'M'},\n",
       " 5: {'label': 'Lydia', 'orig_gender': 'F'},\n",
       " 6: {'label': 'Bingley', 'orig_gender': 'M'},\n",
       " 7: {'label': 'Wickham', 'orig_gender': 'M'},\n",
       " 8: {'label': 'Miss Bingley', 'orig_gender': 'F'},\n",
       " 9: {'label': 'Charlotte', 'orig_gender': 'F'},\n",
       " 10: {'label': 'Gardiner', 'orig_gender': 'M'},\n",
       " 11: {'label': 'Mrs. Gardiner', 'orig_gender': 'F'},\n",
       " 12: {'label': 'Lady Lucas', 'orig_gender': 'F'},\n",
       " 13: {'label': 'Denny', 'orig_gender': 'M'},\n",
       " 14: {'label': 'Sir William Lucas', 'orig_gender': 'M'},\n",
       " 15: {'label': 'Maria Lucas', 'orig_gender': 'F'},\n",
       " 16: {'label': 'Georgiana', 'orig_gender': 'F'},\n",
       " 17: {'label': 'Lady Catherine', 'orig_gender': 'F'},\n",
       " 18: {'label': 'Kitty', 'orig_gender': 'F'},\n",
       " 19: {'label': 'Mary', 'orig_gender': 'F'},\n",
       " 20: {'label': 'Mr. Collins', 'orig_gender': 'M'},\n",
       " 21: {'label': 'Mrs. Collins', 'orig_gender': 'F'},\n",
       " 22: {'label': 'Louisa', 'orig_gender': 'F'},\n",
       " 23: {'label': 'Mrs. Forster', 'orig_gender': 'F'},\n",
       " 24: {'label': 'Bennets', 'orig_gender': 'F'},\n",
       " 25: {'label': 'Lucases', 'orig_gender': 'O'},\n",
       " 26: {'label': 'Mrs. Long', 'orig_gender': 'F'},\n",
       " 27: {'label': 'OTHER', 'orig_gender': 'O'},\n",
       " 28: {'label': 'BingSisters', 'orig_gender': 'F'},\n",
       " 29: {'label': 'JaneElizabeth', 'orig_gender': 'F'},\n",
       " 30: {'label': 'KittyLydia', 'orig_gender': 'F'},\n",
       " 31: {'label': 'collective', 'orig_gender': 'O'},\n",
       " 32: {'label': 'MissDeBourgh', 'orig_gender': 'F'},\n",
       " 33: {'label': 'Colonel Forster', 'orig_gender': 'M'},\n",
       " 35: {'label': 'DeBurghLadies', 'orig_gender': 'F'},\n",
       " 37: {'label': 'Col Fitzwilliam', 'orig_gender': 'M'},\n",
       " 38: {'label': 'Collinses', 'orig_gender': 'O'}}"
      ]
     },
     "execution_count": 417,
     "metadata": {},
     "output_type": "execute_result"
    }
   ],
   "source": [
    "idlookup"
   ]
  },
  {
   "cell_type": "code",
   "execution_count": 180,
   "metadata": {},
   "outputs": [],
   "source": [
    "name_variants = {\n",
    "    0: [\"Elizabeth\", \"Lizzy\", \"Eliza\", \"Miss Bennet\", \"Elizabeth Bennet\", \"Miss Elizabeth Bennet\", \n",
    "        \"Miss Eliza\", \"Miss Elizabeth\", \"Miss Lizzy\"],\n",
    "    1: [\"Darcy\", \"Mr. Darcy\", \"Fitzwilliam Darcy\"],\n",
    "    2: [\"Jane\", \"Miss Jane Bennet\", \"Miss Bennet\", \"Jane Bennet\"],\n",
    "    6: [\"Bingley\", \"Charles Bingley\", \"Mr. Bingley\"],\n",
    "    3: [\"Mrs. Bennet\"],\n",
    "    4: [\"Mr. Bennet\"],\n",
    "    5: [\"Lydia\"],\n",
    "    18: [\"Kitty\", \"Catherine\"],\n",
    "    19: [\"Mary\"],\n",
    "    24: [\"The Bennets\", \"daughters\", \"girls\", \"ladies\", \"sisters\"]\n",
    "}"
   ]
  },
  {
   "cell_type": "markdown",
   "metadata": {},
   "source": [
    "## Would Do This Via Web Form or Something\n",
    "\n",
    "Also, it's confusing not to fix Miss Bingely - she collides with the new one here"
   ]
  },
  {
   "cell_type": "code",
   "execution_count": 419,
   "metadata": {},
   "outputs": [],
   "source": [
    "name_replacements = {\n",
    "    0: {\"Elizabeth\": \"Edward\", \"LIZZY\": \"EDDIE\", \"Lizzy\": \"Eddie\", \"Eliza\": \"Ed\", \"Miss Bennet\": \"Mr. Bennet\", \"Elizabeth Bennet\": \"Edward Bennet\", \"Miss Eliza\": \"Mr. Ed\", \"Miss Elizabeth\": \"Mr. Edward\", \"Miss Lizzy\": \"Mr. Eddie\"},\n",
    "    1: {\"Darcy\": \"Darcy\", \"Mr. Darcy\": \"Miss Darcy\", \"Fitzwilliam Darcy\": \"Philomena Darcy\"},\n",
    "    2: {\"Jane\": \"John\", \"Jane Bennet\": \"John Bennet\", \"Miss Bennet\": \"Mr. Bennet\"},\n",
    "    6: {\"Bingley\": \"Bingley\", \"Charles\": \"Charlotte\", \"Mr. Bingley\": \"Miss Bingley\", \"Charles Bingley\": \"Charlotte Bingley\"},\n",
    "    3: {\"Mrs. Bennet\": \"Mr. Bennet\"},\n",
    "    4: {\"Mr. Bennet\": \"Mrs. Bennet\"},\n",
    "    5: {\"Lydia\": \"Luke\"},\n",
    "    18: {\"Kitty\": \"Connie\", \"Catherine\": \"Connor\"},\n",
    "    19: {\"Mary\": \"Morris\"},\n",
    "    24: {\"daughters\": \"sons\", \"girls\": \"boys\", \"ladies\": \"gentlemen\", \"sisters\": \"brothers\"}\n",
    "}\n",
    "\n",
    "swaps = [0, 1, 2, 3, 4, 6, 5, 18, 19, 24]"
   ]
  },
  {
   "cell_type": "markdown",
   "metadata": {},
   "source": [
    "### Code For It"
   ]
  },
  {
   "cell_type": "code",
   "execution_count": 320,
   "metadata": {},
   "outputs": [],
   "source": [
    "def get_best_repl(inputtext, inputcol, outputcol):\n",
    "    hits = repl[[bool(re.findall(r\"\\b\" + x + r\"\\b\", r\"\\b\" + inputtext + r\"\\b\")) for x in repl[inputcol]]]\n",
    "    hits['len'] = hits[inputcol].apply(lambda x: len(x))\n",
    "    if len(hits) > 0:\n",
    "        best = hits.sort_values(by=\"len\", ascending=False).iloc[0]\n",
    "        result = replace_keep_case(best[inputcol], best[outputcol], inputtext)\n",
    "        #print(\"got best match\", result)\n",
    "    else:\n",
    "        result = inputtext\n",
    "    return result\n",
    "\n",
    "def check_substring(id, name):\n",
    "    for key, val in name_replacements[id].items():\n",
    "        if key in name:\n",
    "            return replace_keep_case(key, val, name)\n",
    "    return None\n",
    "\n",
    "def try_name(id, string):\n",
    "    if string in name_replacements[id]:\n",
    "        return name_replacements[id][string]\n",
    "    else:\n",
    "        return check_substring(id, string)\n",
    "\n",
    "def get_exact(repl, col, match, returncol):\n",
    "    res = repl[repl[col]==match]\n",
    "    if len(res) > 0:\n",
    "        #print(\"got exact\")\n",
    "        return res[returncol].values[0]\n",
    "    else:\n",
    "        return None"
   ]
  },
  {
   "cell_type": "code",
   "execution_count": 247,
   "metadata": {},
   "outputs": [],
   "source": [
    "def do_replace(entid, oldstring):\n",
    "    if entid in swaps:\n",
    "        new = None\n",
    "        if newlookup[entid]['orig_gender'] == \"M\":\n",
    "            sourcepron = 'M-Pro'\n",
    "            newpron = \"F-Pro\"\n",
    "        if newlookup[entid]['orig_gender'] == \"F\":\n",
    "            newpron = \"M-Pro\"\n",
    "            sourcepron = \"F-Pro\"\n",
    "        new = try_name(entid, oldstring)\n",
    "        if not new:\n",
    "            new = get_exact(repl, sourcepron, oldstring, newpron)\n",
    "        if not new:\n",
    "            new = get_best_repl(oldstring, sourcepron, newpron)\n",
    "        if new:\n",
    "            return new\n",
    "        else:\n",
    "            return oldstring\n",
    "    return oldstring"
   ]
  },
  {
   "cell_type": "code",
   "execution_count": 420,
   "metadata": {},
   "outputs": [],
   "source": [
    "def special_case_check(i, df, start, oldstring, newstring):\n",
    "    # fix a possessive his / him problem in compound nouns\n",
    "    # Why does this not work all the time\n",
    "    if oldstring == \"her\":\n",
    "        if (df.loc[i+1]['start'] == start) and (newstring == \"him\"):\n",
    "            print(\"special case match, returning his\", oldstring, newstring)\n",
    "            return \"his\"\n",
    "        else:\n",
    "            return newstring\n",
    "    else:\n",
    "        return newstring"
   ]
  },
  {
   "cell_type": "code",
   "execution_count": 326,
   "metadata": {},
   "outputs": [
    {
     "name": "stdout",
     "output_type": "stream",
     "text": [
      "mkdir: drafts: File exists\r\n"
     ]
    }
   ],
   "source": [
    "!mkdir drafts"
   ]
  },
  {
   "cell_type": "code",
   "execution_count": 290,
   "metadata": {},
   "outputs": [],
   "source": [
    "!mkdir final"
   ]
  },
  {
   "cell_type": "code",
   "execution_count": 421,
   "metadata": {},
   "outputs": [],
   "source": [
    "ann_sourcepath = \"cl-coref-annotator/newchaps\"\n",
    "text_path = \"cl-coref-annotator/chaps\""
   ]
  },
  {
   "cell_type": "code",
   "execution_count": 422,
   "metadata": {},
   "outputs": [],
   "source": [
    "def write_chapter_draft(num):\n",
    "    mergedf = pd.read_csv(f\"{ann_sourcepath}/merged_data_{num}.tsv\", sep=\"\\t\")\n",
    "    mergedf['len'] = mergedf['string'].apply(lambda x: len(x))\n",
    "    mergedf.sort_values(by=[\"start\", \"len\"], ascending=True, inplace=True)\n",
    "    filename = f\"{text_path}/austen_chap{num}_brat.txt\"\n",
    "    text = None\n",
    "    with open(filename) as handle:\n",
    "        text = handle.read()\n",
    "    with open(f\"./drafts/chapter_{str(num)}.txt\", \"w\") as handle:\n",
    "        current = 0\n",
    "        for i, row in mergedf.iterrows():\n",
    "            start = row['start']\n",
    "            ent = row['id']\n",
    "            oldstring = row['string']\n",
    "            end = row['end']\n",
    "            if row['start'] > current:\n",
    "                handle.write(text[current: start-1] + \" \")\n",
    "                replacement = do_replace(ent, oldstring)\n",
    "                replacement = special_case_check(i, mergedf, start, oldstring, replacement)\n",
    "                print(\"new replacement\", replacement)\n",
    "                handle.write(replacement + \" \")\n",
    "                if replacement != oldstring:\n",
    "                    replaced = True\n",
    "                else:\n",
    "                    replaced = False\n",
    "                lastlen = end - start\n",
    "                current = row['end'] + 1\n",
    "            else:\n",
    "                print(\"overlapping entity\", oldstring, oldstring[lastlen:])\n",
    "                if replaced:\n",
    "                    print(\"replaced is true\", oldstring[lastlen:])\n",
    "                    oldstring = oldstring[lastlen:]\n",
    "                replacement = do_replace(ent, oldstring)\n",
    "                print(\"after replacement2\", replacement)\n",
    "                handle.write(replacement + \" \")\n",
    "                lastlen = end - start\n",
    "                current = row['end'] + 1\n",
    "        handle.write(text[current:])"
   ]
  },
  {
   "cell_type": "code",
   "execution_count": 423,
   "metadata": {},
   "outputs": [],
   "source": [
    "def clean_draft(text):\n",
    "    text = text.replace(\"`` \", '\"')\n",
    "    text = text.replace(\" ''\", '\"')\n",
    "    text = text.replace(\" _ \", \" \")\n",
    "    text = text.replace(\"_ \", \"\")\n",
    "    text = text.replace(\" ,\", \",\")\n",
    "    text = text.replace(\" .\", \".\")\n",
    "    text = text.replace(\" ,\", \",\")\n",
    "    text = text.replace(\" !\", \"!\")\n",
    "    text = text.replace(\" ?\", \"?\")\n",
    "    text = text.replace(\" ;\", \";\")\n",
    "    text = text.replace(\" :\", \":\")\n",
    "    text = text.replace(\"  \", \" \")\n",
    "    text = text.replace(\" n't\", \"n't\")\n",
    "    text = text.replace(\" 'm\", \"'m\")\n",
    "    text = text.replace(\" 's\", \"'s\")\n",
    "    text = text.replace(\"-LRB-\", \" \")\n",
    "    text = text.replace(\"-RRB-\", \" \")\n",
    "    text = text.replace(\"  \", \" \")\n",
    "    text = re.sub(r\"(Chapter [0-9]+) \", r\"\\1\\n\\n\", text)\n",
    "    return text"
   ]
  },
  {
   "cell_type": "code",
   "execution_count": 424,
   "metadata": {},
   "outputs": [],
   "source": [
    "def write_clean_chapter(i):\n",
    "    with open(f\"./drafts/chapter_{str(i)}.txt\", \"r\") as handle:\n",
    "        text = handle.read()\n",
    "        text = clean_draft(text)\n",
    "    with open(f\"./final/chapter_{str(i)}.txt\", \"w\") as handle:\n",
    "        handle.write(text)"
   ]
  },
  {
   "cell_type": "code",
   "execution_count": null,
   "metadata": {},
   "outputs": [],
   "source": [
    "for i in range(0, 60):\n",
    "    write_chapter_draft(i)\n",
    "    write_clean_chapter(i)"
   ]
  },
  {
   "cell_type": "code",
   "execution_count": null,
   "metadata": {},
   "outputs": [],
   "source": []
  }
 ],
 "metadata": {
  "kernelspec": {
   "display_name": "Python 3",
   "language": "python",
   "name": "python3"
  },
  "language_info": {
   "codemirror_mode": {
    "name": "ipython",
    "version": 3
   },
   "file_extension": ".py",
   "mimetype": "text/x-python",
   "name": "python",
   "nbconvert_exporter": "python",
   "pygments_lexer": "ipython3",
   "version": "3.7.7"
  }
 },
 "nbformat": 4,
 "nbformat_minor": 4
}
